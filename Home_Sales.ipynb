{
  "cells": [
    {
      "cell_type": "code",
      "execution_count": 2,
      "metadata": {
        "colab": {
          "base_uri": "https://localhost:8080/"
        },
        "id": "a_KW73O2e3dw",
        "outputId": "7eda5cbd-538f-4577-cc4c-6a19bd7ee850"
      },
      "outputs": [
        {
          "output_type": "stream",
          "name": "stdout",
          "text": [
            "\r0% [Working]\r            \rHit:1 http://security.ubuntu.com/ubuntu jammy-security InRelease\n",
            "\r0% [Connecting to archive.ubuntu.com (185.125.190.36)] [Connected to cloud.r-pr\r                                                                               \rHit:2 https://cloud.r-project.org/bin/linux/ubuntu jammy-cran40/ InRelease\n",
            "\r0% [Waiting for headers] [Connected to ppa.launchpadcontent.net (185.125.190.52\r                                                                               \rHit:3 https://developer.download.nvidia.com/compute/cuda/repos/ubuntu2204/x86_64  InRelease\n",
            "Hit:4 http://archive.ubuntu.com/ubuntu jammy InRelease\n",
            "Hit:5 http://archive.ubuntu.com/ubuntu jammy-updates InRelease\n",
            "Hit:6 http://archive.ubuntu.com/ubuntu jammy-backports InRelease\n",
            "Hit:7 https://ppa.launchpadcontent.net/c2d4u.team/c2d4u4.0+/ubuntu jammy InRelease\n",
            "Hit:8 https://ppa.launchpadcontent.net/deadsnakes/ppa/ubuntu jammy InRelease\n",
            "Hit:9 https://ppa.launchpadcontent.net/graphics-drivers/ppa/ubuntu jammy InRelease\n",
            "Hit:10 https://ppa.launchpadcontent.net/ubuntugis/ppa/ubuntu jammy InRelease\n",
            "Reading package lists... Done\n"
          ]
        }
      ],
      "source": [
        "import os\n",
        "# Find the latest version of spark 3.x  from http://www.apache.org/dist/spark/ and enter as the spark version\n",
        "# For example:\n",
        "# spark_version = 'spark-3.4.0'\n",
        "spark_version = 'spark-3.5.0'\n",
        "os.environ['SPARK_VERSION']=spark_version\n",
        "\n",
        "# Install Spark and Java\n",
        "!apt-get update\n",
        "!apt-get install openjdk-11-jdk-headless -qq > /dev/null\n",
        "!wget -q http://www.apache.org/dist/spark/$SPARK_VERSION/$SPARK_VERSION-bin-hadoop3.tgz\n",
        "!tar xf $SPARK_VERSION-bin-hadoop3.tgz\n",
        "!pip install -q findspark\n",
        "\n",
        "# Set Environment Variables\n",
        "os.environ[\"JAVA_HOME\"] = \"/usr/lib/jvm/java-11-openjdk-amd64\"\n",
        "os.environ[\"SPARK_HOME\"] = f\"/content/{spark_version}-bin-hadoop3\"\n",
        "\n",
        "# Start a SparkSession\n",
        "import findspark\n",
        "findspark.init()"
      ]
    },
    {
      "cell_type": "code",
      "execution_count": 3,
      "metadata": {
        "id": "2XbWNf1Te5fM"
      },
      "outputs": [],
      "source": [
        "# Import packages\n",
        "from pyspark.sql import SparkSession\n",
        "import time\n",
        "\n",
        "# Create a SparkSession\n",
        "spark = SparkSession.builder.appName(\"SparkSQL\").getOrCreate()"
      ]
    },
    {
      "cell_type": "code",
      "execution_count": 6,
      "metadata": {
        "id": "wOJqxG_RPSwp"
      },
      "outputs": [],
      "source": [
        "# 1. Read in the AWS S3 bucket into a DataFrame.\n",
        "from pyspark import SparkFiles\n",
        "url = \"https://2u-data-curriculum-team.s3.amazonaws.com/dataviz-classroom/v1.2/22-big-data/home_sales_revised.csv\"\n",
        "\n",
        "spark.sparkContext.addFile(url)\n",
        "df = spark.read.csv(\"file://\" + SparkFiles.get(\"home_sales_revised.csv\"), header=True, inferSchema=True)"
      ]
    },
    {
      "cell_type": "code",
      "execution_count": 7,
      "metadata": {
        "id": "RoljcJ7WPpnm"
      },
      "outputs": [],
      "source": [
        "# 2. Create a temporary view of the DataFrame.\n",
        "df.createOrReplaceTempView(\"home_sales\")\n",
        "\n"
      ]
    },
    {
      "cell_type": "code",
      "execution_count": 8,
      "metadata": {
        "id": "L6fkwOeOmqvq",
        "colab": {
          "base_uri": "https://localhost:8080/"
        },
        "outputId": "8029c788-0a27-4eb4-b9d6-ed393b713344"
      },
      "outputs": [
        {
          "output_type": "stream",
          "name": "stdout",
          "text": [
            "+----+---------+\n",
            "|Year| AvgPrice|\n",
            "+----+---------+\n",
            "|2019| 300263.7|\n",
            "|2020|298353.78|\n",
            "|2021|301819.44|\n",
            "|2022|296363.88|\n",
            "+----+---------+\n",
            "\n"
          ]
        }
      ],
      "source": [
        "# 3. What is the average price for a four bedroom house sold in each year rounded to two decimal places?\n",
        "\n",
        "result = spark.sql(\"SELECT YEAR(Date) AS Year, ROUND(AVG(Price), 2) AS AvgPrice FROM home_sales WHERE Bedrooms = 4 GROUP BY Year ORDER BY Year\")\n",
        "result.show()\n"
      ]
    },
    {
      "cell_type": "code",
      "execution_count": 12,
      "metadata": {
        "id": "l8p_tUS8h8it",
        "colab": {
          "base_uri": "https://localhost:8080/"
        },
        "outputId": "7d2945df-9eab-4bd1-cc4f-2dabf432ea2a"
      },
      "outputs": [
        {
          "output_type": "stream",
          "name": "stdout",
          "text": [
            "+---------+---------+\n",
            "|YearBuilt| AvgPrice|\n",
            "+---------+---------+\n",
            "|     2010|292859.62|\n",
            "|     2011|291117.47|\n",
            "|     2012|293683.19|\n",
            "|     2013|295962.27|\n",
            "|     2014|290852.27|\n",
            "|     2015| 288770.3|\n",
            "|     2016|290555.07|\n",
            "|     2017|292676.79|\n",
            "+---------+---------+\n",
            "\n"
          ]
        }
      ],
      "source": [
        "# 4. What is the average price of a home for each year the home was built that have 3 bedrooms and 3 bathrooms rounded to two decimal places?\n",
        "from pyspark.sql.functions import year, to_date\n",
        "\n",
        "result = spark.sql(\"SELECT YEAR(to_date(CAST(date_built AS STRING))) AS YearBuilt, ROUND(AVG(Price), 2) AS AvgPrice FROM home_sales WHERE Bedrooms = 3 AND Bathrooms = 3 GROUP BY YearBuilt ORDER BY YearBuilt\")\n",
        "result.show()\n"
      ]
    },
    {
      "cell_type": "code",
      "execution_count": 13,
      "metadata": {
        "id": "Y-Eytz64liDU",
        "colab": {
          "base_uri": "https://localhost:8080/"
        },
        "outputId": "90268d28-817a-4ba7-fc8a-4370d0eef72c"
      },
      "outputs": [
        {
          "output_type": "stream",
          "name": "stdout",
          "text": [
            "+---------+---------+\n",
            "|YearBuilt| AvgPrice|\n",
            "+---------+---------+\n",
            "|     2010|285010.22|\n",
            "|     2011|276553.81|\n",
            "|     2012|307539.97|\n",
            "|     2013|303676.79|\n",
            "|     2014|298264.72|\n",
            "|     2015|297609.97|\n",
            "|     2016| 293965.1|\n",
            "|     2017|280317.58|\n",
            "+---------+---------+\n",
            "\n"
          ]
        }
      ],
      "source": [
        "# 5. What is the average price of a home for each year built that have 3 bedrooms, 3 bathrooms, with two floors,\n",
        "# and are greater than or equal to 2,000 square feet rounded to two decimal places?\n",
        "\n",
        "result = spark.sql(\"SELECT YEAR(to_date(CAST(date_built AS STRING))) AS YearBuilt, ROUND(AVG(Price), 2) AS AvgPrice \" +\n",
        "                   \"FROM home_sales \" +\n",
        "                   \"WHERE Bedrooms = 3 AND Bathrooms = 3 AND floors = 2 AND sqft_living >= 2000 \" +\n",
        "                   \"GROUP BY YearBuilt \" +\n",
        "                   \"ORDER BY YearBuilt\")\n",
        "\n",
        "result.show()\n"
      ]
    },
    {
      "cell_type": "code",
      "execution_count": 14,
      "metadata": {
        "colab": {
          "base_uri": "https://localhost:8080/"
        },
        "id": "GUrfgOX1pCRd",
        "outputId": "9465c3f2-21a9-4b92-e646-82a3c3131fd3"
      },
      "outputs": [
        {
          "output_type": "stream",
          "name": "stdout",
          "text": [
            "+-------------+\n",
            "|AvgViewRating|\n",
            "+-------------+\n",
            "|       32.264|\n",
            "+-------------+\n",
            "\n",
            "--- 0.7306861877441406 seconds ---\n"
          ]
        }
      ],
      "source": [
        "# 6. What is the \"view\" rating for the average price of a home, rounded to two decimal places, where the homes are greater than\n",
        "# or equal to $350,000? Although this is a small dataset, determine the run time for this query.\n",
        "\n",
        "import time\n",
        "\n",
        "start_time = time.time()\n",
        "\n",
        "result = spark.sql(\"SELECT AVG(view) AS AvgViewRating FROM home_sales WHERE Price >= 350000\")\n",
        "result.show()\n",
        "\n",
        "end_time = time.time()\n",
        "\n",
        "print(\"--- %s seconds ---\" % (end_time - start_time))\n"
      ]
    },
    {
      "cell_type": "code",
      "execution_count": 15,
      "metadata": {
        "id": "KAhk3ZD2tFy8",
        "colab": {
          "base_uri": "https://localhost:8080/"
        },
        "outputId": "6af84024-9228-45d1-dbf9-a911a14cf0fc"
      },
      "outputs": [
        {
          "output_type": "execute_result",
          "data": {
            "text/plain": [
              "DataFrame[]"
            ]
          },
          "metadata": {},
          "execution_count": 15
        }
      ],
      "source": [
        "# 7. Cache the the temporary table home_sales.\n",
        "\n",
        "spark.sql(\"CACHE TABLE home_sales\")\n"
      ]
    },
    {
      "cell_type": "code",
      "execution_count": 16,
      "metadata": {
        "id": "4opVhbvxtL-i",
        "colab": {
          "base_uri": "https://localhost:8080/"
        },
        "outputId": "56f524a4-3425-4580-f0c5-787176e11d9c"
      },
      "outputs": [
        {
          "output_type": "execute_result",
          "data": {
            "text/plain": [
              "True"
            ]
          },
          "metadata": {},
          "execution_count": 16
        }
      ],
      "source": [
        "# 8. Check if the table is cached.\n",
        "spark.catalog.isCached('home_sales')"
      ]
    },
    {
      "cell_type": "code",
      "execution_count": 18,
      "metadata": {
        "colab": {
          "base_uri": "https://localhost:8080/"
        },
        "id": "5GnL46lwTSEk",
        "outputId": "e96cec73-728c-49a7-c04c-3e0bf4546868"
      },
      "outputs": [
        {
          "output_type": "stream",
          "name": "stdout",
          "text": [
            "+-------------+\n",
            "|AvgViewRating|\n",
            "+-------------+\n",
            "|       32.264|\n",
            "+-------------+\n",
            "\n",
            "Runtime with caching: 0.7283227443695068 seconds\n",
            "+-------------+\n",
            "|AvgViewRating|\n",
            "+-------------+\n",
            "|       32.264|\n",
            "+-------------+\n",
            "\n",
            "Runtime without caching: 0.7180581092834473 seconds\n"
          ]
        }
      ],
      "source": [
        "# 9. Using the cached data, run the query that filters out the view ratings with average price\n",
        "#  greater than or equal to $350,000. Determine the runtime and compare it to uncached runtime.\n",
        "\n",
        "# Enable caching\n",
        "spark.sql(\"CACHE TABLE home_sales\")\n",
        "\n",
        "# Measure runtime with caching\n",
        "start_time = time.time()\n",
        "\n",
        "result = spark.sql(\"SELECT AVG(view) AS AvgViewRating FROM home_sales WHERE Price >= 350000\")\n",
        "result.show()\n",
        "\n",
        "end_time = time.time()\n",
        "\n",
        "print(\"Runtime with caching: %s seconds\" % (end_time - start_time))\n",
        "\n",
        "# Uncache the table\n",
        "spark.sql(\"UNCACHE TABLE home_sales\")\n",
        "\n",
        "# Measure runtime without caching\n",
        "start_time = time.time()\n",
        "\n",
        "result = spark.sql(\"SELECT AVG(view) AS AvgViewRating FROM home_sales WHERE Price >= 350000\")\n",
        "result.show()\n",
        "\n",
        "end_time = time.time()\n",
        "\n",
        "print(\"Runtime without caching: %s seconds\" % (end_time - start_time))\n"
      ]
    },
    {
      "cell_type": "code",
      "execution_count": 19,
      "metadata": {
        "id": "Qm12WN9isHBR"
      },
      "outputs": [],
      "source": [
        "# 10. Partition by the \"date_built\" field on the formatted parquet home sales data\n",
        "output_path = \"path_to_output_directory\"\n",
        "df.write.partitionBy(\"date_built\").parquet(output_path)"
      ]
    },
    {
      "cell_type": "code",
      "execution_count": 22,
      "metadata": {
        "id": "AZ7BgY61sRqY"
      },
      "outputs": [],
      "source": [
        "# 11. Read the parquet formatted data.\n",
        "parquet_dir = \"path_to_output_directory\"\n",
        "\n",
        "parquet_data = spark.read.parquet(parquet_dir)"
      ]
    },
    {
      "cell_type": "code",
      "execution_count": 23,
      "metadata": {
        "id": "J6MJkHfvVcvh"
      },
      "outputs": [],
      "source": [
        "# 12. Create a temporary table for the parquet data.\n",
        "parquet_data.createOrReplaceTempView(\"parquet_table\")"
      ]
    },
    {
      "cell_type": "code",
      "execution_count": 25,
      "metadata": {
        "colab": {
          "base_uri": "https://localhost:8080/"
        },
        "id": "G_Vhb52rU1Sn",
        "outputId": "58457635-a6df-4ac5-fd25-5be378386e97"
      },
      "outputs": [
        {
          "output_type": "stream",
          "name": "stdout",
          "text": [
            "+-------------+\n",
            "|AvgViewRating|\n",
            "+-------------+\n",
            "|       32.264|\n",
            "+-------------+\n",
            "\n",
            "Runtime with caching: 0.5049283504486084 seconds\n",
            "+-------------+\n",
            "|AvgViewRating|\n",
            "+-------------+\n",
            "|       32.264|\n",
            "+-------------+\n",
            "\n",
            "Runtime without caching: 0.6755514144897461 seconds\n"
          ]
        }
      ],
      "source": [
        "# 13. Run the query that filters out the view ratings with average price of greater than or equal to $350,000\n",
        "# with the parquet DataFrame. Round your average to two decimal places.\n",
        "# Determine the runtime and compare it to the cached version.\n",
        "\n",
        "import time\n",
        "\n",
        "# Enable caching for the Parquet DataFrame\n",
        "parquet_data.createOrReplaceTempView(\"parquet_table\")\n",
        "spark.sql(\"CACHE TABLE parquet_table\")\n",
        "\n",
        "# Measure runtime with caching\n",
        "start_time = time.time()\n",
        "\n",
        "result = spark.sql(\"SELECT AVG(view) AS AvgViewRating FROM parquet_table WHERE Price >= 350000\")\n",
        "result.show()\n",
        "\n",
        "end_time = time.time()\n",
        "\n",
        "print(\"Runtime with caching: %s seconds\" % (end_time - start_time))\n",
        "\n",
        "# Uncache the Parquet DataFrame\n",
        "spark.sql(\"UNCACHE TABLE parquet_table\")\n",
        "\n",
        "# Measure runtime without caching\n",
        "start_time = time.time()\n",
        "\n",
        "result = spark.sql(\"SELECT AVG(view) AS AvgViewRating FROM parquet_table WHERE Price >= 350000\")\n",
        "result.show()\n",
        "\n",
        "end_time = time.time()\n",
        "\n",
        "print(\"Runtime without caching: %s seconds\" % (end_time - start_time))\n"
      ]
    },
    {
      "cell_type": "code",
      "execution_count": 26,
      "metadata": {
        "id": "hjjYzQGjtbq8"
      },
      "outputs": [],
      "source": [
        "# 14. Uncache the home_sales temporary table.\n",
        "spark.catalog.uncacheTable(\"home_sales\")"
      ]
    },
    {
      "cell_type": "code",
      "execution_count": 27,
      "metadata": {
        "id": "Sy9NBvO7tlmm",
        "colab": {
          "base_uri": "https://localhost:8080/"
        },
        "outputId": "cd81cdf2-d25a-4d97-b41e-988408d684e5"
      },
      "outputs": [
        {
          "output_type": "stream",
          "name": "stdout",
          "text": [
            "The 'home_sales' temporary table is no longer cached.\n"
          ]
        }
      ],
      "source": [
        "# 15. Check if the home_sales is no longer cached\n",
        "\n",
        "is_cached = spark.catalog.isCached(\"home_sales\")\n",
        "\n",
        "if is_cached:\n",
        "    print(\"The 'home_sales' temporary table is still cached.\")\n",
        "else:\n",
        "    print(\"The 'home_sales' temporary table is no longer cached.\")"
      ]
    },
    {
      "cell_type": "code",
      "execution_count": null,
      "metadata": {
        "id": "Si-BNruRUGK3"
      },
      "outputs": [],
      "source": []
    }
  ],
  "metadata": {
    "colab": {
      "provenance": []
    },
    "gpuClass": "standard",
    "kernelspec": {
      "display_name": "Python 3 (ipykernel)",
      "language": "python",
      "name": "python3"
    },
    "language_info": {
      "codemirror_mode": {
        "name": "ipython",
        "version": 3
      },
      "file_extension": ".py",
      "mimetype": "text/x-python",
      "name": "python",
      "nbconvert_exporter": "python",
      "pygments_lexer": "ipython3",
      "version": "3.10.4"
    },
    "nteract": {
      "version": "0.28.0"
    }
  },
  "nbformat": 4,
  "nbformat_minor": 0
}